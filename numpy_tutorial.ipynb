{
  "nbformat": 4,
  "nbformat_minor": 0,
  "metadata": {
    "colab": {
      "provenance": [],
      "authorship_tag": "ABX9TyNXMOrgUVZWBJNOfAhWVDPA",
      "include_colab_link": true
    },
    "kernelspec": {
      "name": "python3",
      "display_name": "Python 3"
    },
    "language_info": {
      "name": "python"
    }
  },
  "cells": [
    {
      "cell_type": "markdown",
      "metadata": {
        "id": "view-in-github",
        "colab_type": "text"
      },
      "source": [
        "<a href=\"https://colab.research.google.com/github/rsnbgt/python_tutorial/blob/main/numpy_tutorial.ipynb\" target=\"_parent\"><img src=\"https://colab.research.google.com/assets/colab-badge.svg\" alt=\"Open In Colab\"/></a>"
      ]
    },
    {
      "cell_type": "code",
      "execution_count": 1,
      "metadata": {
        "id": "3CwoqH7HJGJb"
      },
      "outputs": [],
      "source": [
        "import numpy as np"
      ]
    },
    {
      "cell_type": "code",
      "source": [
        "print(np.__version__)"
      ],
      "metadata": {
        "colab": {
          "base_uri": "https://localhost:8080/"
        },
        "id": "gbQX2XQPKhzX",
        "outputId": "10c3477f-f33e-4010-bb43-384963c2dba5"
      },
      "execution_count": 3,
      "outputs": [
        {
          "output_type": "stream",
          "name": "stdout",
          "text": [
            "2.0.2\n"
          ]
        }
      ]
    },
    {
      "cell_type": "markdown",
      "source": [
        "DataTypes and Attributes"
      ],
      "metadata": {
        "id": "JMUjWAMuK2-a"
      }
    },
    {
      "cell_type": "code",
      "source": [
        "# 1-D array\n",
        "a1=np.array([1,2,3])\n",
        "\n",
        "#2-D array\n",
        "a2=np.array([[1,2,3],[4,5,6]])\n",
        "\n",
        "#3-D array\n",
        "a3=np.array([[[1,2,3],[4,5,6]],[[1,2,3],[4,5,6]],[[1,2,3],[4,5,6]]])"
      ],
      "metadata": {
        "id": "bWFdboVQKlXG"
      },
      "execution_count": 8,
      "outputs": []
    },
    {
      "cell_type": "code",
      "source": [
        "a1.shape , a1.ndim ,a1.dtype ,a1.size , type(a1)"
      ],
      "metadata": {
        "colab": {
          "base_uri": "https://localhost:8080/"
        },
        "id": "pXKM7Xr5LEzK",
        "outputId": "cdeb3dc3-afa6-4b75-ba63-99ee22abf428"
      },
      "execution_count": 9,
      "outputs": [
        {
          "output_type": "execute_result",
          "data": {
            "text/plain": [
              "((3,), 1, dtype('int64'), 3, numpy.ndarray)"
            ]
          },
          "metadata": {},
          "execution_count": 9
        }
      ]
    },
    {
      "cell_type": "code",
      "source": [
        "a2.shape , a2.ndim ,a2.dtype ,a2.size , type(a2)"
      ],
      "metadata": {
        "colab": {
          "base_uri": "https://localhost:8080/"
        },
        "id": "bM6xN0eGLspl",
        "outputId": "2b68d19d-f64c-4524-d477-5323b84af3bb"
      },
      "execution_count": 10,
      "outputs": [
        {
          "output_type": "execute_result",
          "data": {
            "text/plain": [
              "((2, 3), 2, dtype('int64'), 6, numpy.ndarray)"
            ]
          },
          "metadata": {},
          "execution_count": 10
        }
      ]
    },
    {
      "cell_type": "code",
      "source": [
        "a3.shape , a3.ndim ,a3.dtype ,a3.size , type(a3)"
      ],
      "metadata": {
        "colab": {
          "base_uri": "https://localhost:8080/"
        },
        "id": "PTcC8dS7Lz2X",
        "outputId": "8c6e93bd-058d-4256-b932-f4b89ff7d502"
      },
      "execution_count": 11,
      "outputs": [
        {
          "output_type": "execute_result",
          "data": {
            "text/plain": [
              "((3, 2, 3), 3, dtype('int64'), 18, numpy.ndarray)"
            ]
          },
          "metadata": {},
          "execution_count": 11
        }
      ]
    },
    {
      "cell_type": "code",
      "source": [
        "# array of ones\n",
        "ones=np.ones((3,3))\n",
        "print(ones)"
      ],
      "metadata": {
        "colab": {
          "base_uri": "https://localhost:8080/"
        },
        "id": "gL6Ex8eVL__3",
        "outputId": "3df67412-a984-4415-e0dc-e1adc61393a4"
      },
      "execution_count": 13,
      "outputs": [
        {
          "output_type": "stream",
          "name": "stdout",
          "text": [
            "[[1. 1. 1.]\n",
            " [1. 1. 1.]\n",
            " [1. 1. 1.]]\n"
          ]
        }
      ]
    },
    {
      "cell_type": "code",
      "source": [
        "#array of zeros\n",
        "zeros=np.zeros((3,3))\n",
        "print(zeros)"
      ],
      "metadata": {
        "colab": {
          "base_uri": "https://localhost:8080/"
        },
        "id": "PcJkt2K7NGME",
        "outputId": "76cf1cbb-080e-4943-93f6-afb42e7334d3"
      },
      "execution_count": 14,
      "outputs": [
        {
          "output_type": "stream",
          "name": "stdout",
          "text": [
            "[[0. 0. 0.]\n",
            " [0. 0. 0.]\n",
            " [0. 0. 0.]]\n"
          ]
        }
      ]
    },
    {
      "cell_type": "code",
      "source": [
        "# range array\n",
        "range_array=np.arange(0,10,3)\n",
        "print(range_array)"
      ],
      "metadata": {
        "colab": {
          "base_uri": "https://localhost:8080/"
        },
        "id": "L-MAbzBGNOv_",
        "outputId": "8d43fe58-00f4-4caf-9f13-47b9ceb07d86"
      },
      "execution_count": 15,
      "outputs": [
        {
          "output_type": "stream",
          "name": "stdout",
          "text": [
            "[0 3 6 9]\n"
          ]
        }
      ]
    },
    {
      "cell_type": "code",
      "source": [
        "# array of random values\n",
        "random_array=np.random.randint(0,10,size=(3,3))\n",
        "print(random_array)"
      ],
      "metadata": {
        "colab": {
          "base_uri": "https://localhost:8080/"
        },
        "id": "UFXHLrhXNlr8",
        "outputId": "5bc26aa7-c705-4ff5-fe86-023943f5255a"
      },
      "execution_count": 17,
      "outputs": [
        {
          "output_type": "stream",
          "name": "stdout",
          "text": [
            "[[5 3 5]\n",
            " [9 3 4]\n",
            " [5 4 2]]\n"
          ]
        }
      ]
    },
    {
      "cell_type": "code",
      "source": [
        "random_float_array=np.random.rand(3,3)\n",
        "print(random_float_array)"
      ],
      "metadata": {
        "colab": {
          "base_uri": "https://localhost:8080/"
        },
        "id": "yoK8ZrpINxB6",
        "outputId": "9fe10b13-5dd6-45a2-9f85-9eda7c5326ca"
      },
      "execution_count": 18,
      "outputs": [
        {
          "output_type": "stream",
          "name": "stdout",
          "text": [
            "[[0.23181507 0.69966637 0.03755715]\n",
            " [0.51418212 0.36200909 0.59754376]\n",
            " [0.18863799 0.78689103 0.61699851]]\n"
          ]
        }
      ]
    },
    {
      "cell_type": "markdown",
      "source": [
        "Manipulation and comaparison"
      ],
      "metadata": {
        "id": "HrQmojz2O7Te"
      }
    },
    {
      "cell_type": "code",
      "source": [
        "#Arithmetic\n",
        "# +, -, *, /, //, **, and %\n",
        "# np.exp()\n",
        "# np.log()\n",
        "# Dot product - np.dot()\n",
        "# np.square()\n",
        "# np.sqrt()"
      ],
      "metadata": {
        "id": "HFzl88_LOMdx"
      },
      "execution_count": 19,
      "outputs": []
    },
    {
      "cell_type": "code",
      "source": [
        "# Aggregation\n",
        "# np.sum()\n",
        "# np.mean()\n",
        "# np.std()\n",
        "# np.var()\n",
        "# np.min()\n",
        "# np.max()\n",
        "# np.argmin() returns indices\n",
        "# np.argmax() return indices\n",
        "# np.sort()"
      ],
      "metadata": {
        "id": "ZBBcK6UHPdiA"
      },
      "execution_count": 23,
      "outputs": []
    },
    {
      "cell_type": "code",
      "source": [
        "# Reshaping\n",
        "# np.reshape()\n",
        "# Transposing\n",
        "# a3.T"
      ],
      "metadata": {
        "id": "8adO7EipPozY"
      },
      "execution_count": 22,
      "outputs": []
    },
    {
      "cell_type": "code",
      "source": [],
      "metadata": {
        "id": "Eytz3V71R3hs"
      },
      "execution_count": null,
      "outputs": []
    }
  ]
}